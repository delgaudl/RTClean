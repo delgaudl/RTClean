{
 "cells": [
  {
   "cell_type": "code",
   "execution_count": 1,
   "metadata": {},
   "outputs": [],
   "source": [
    "import pandas\n",
    "import IPython.display\n",
    "\n",
    "from raha import raha"
   ]
  },
  {
   "cell_type": "markdown",
   "metadata": {},
   "source": [
    "## Error Detection with Raha"
   ]
  },
  {
   "cell_type": "code",
   "execution_count": 2,
   "metadata": {},
   "outputs": [],
   "source": [
    "app_1 = raha.Detection()\n",
    "\n",
    "# How many tuples would you label?\n",
    "app_1.LABELING_BUDGET = 20\n",
    "\n",
    "# Would you like to see the logs?\n",
    "app_1.VERBOSE = True\n",
    "app_1.SAVE_RESULTS = True"
   ]
  },
  {
   "cell_type": "code",
   "execution_count": 4,
   "metadata": {},
   "outputs": [
    {
     "data": {
      "text/html": [
       "<div>\n",
       "<style scoped>\n",
       "    .dataframe tbody tr th:only-of-type {\n",
       "        vertical-align: middle;\n",
       "    }\n",
       "\n",
       "    .dataframe tbody tr th {\n",
       "        vertical-align: top;\n",
       "    }\n",
       "\n",
       "    .dataframe thead th {\n",
       "        text-align: right;\n",
       "    }\n",
       "</style>\n",
       "<table border=\"1\" class=\"dataframe\">\n",
       "  <thead>\n",
       "    <tr style=\"text-align: right;\">\n",
       "      <th></th>\n",
       "      <th>System</th>\n",
       "      <th>Device</th>\n",
       "      <th>SensingDevice</th>\n",
       "      <th>Sensor</th>\n",
       "      <th>name</th>\n",
       "      <th>value</th>\n",
       "      <th>timestamp</th>\n",
       "      <th>location</th>\n",
       "    </tr>\n",
       "  </thead>\n",
       "  <tbody>\n",
       "    <tr>\n",
       "      <th>0</th>\n",
       "      <td>MA TestSystem</td>\n",
       "      <td>device_out</td>\n",
       "      <td>aqara_multisensor_2</td>\n",
       "      <td>aqara_temp_2</td>\n",
       "      <td>t4</td>\n",
       "      <td>7.080000000000001</td>\n",
       "      <td>2021-01-01 02:00:00+01:00</td>\n",
       "      <td>outside</td>\n",
       "    </tr>\n",
       "    <tr>\n",
       "      <th>1</th>\n",
       "      <td>MA TestSystem</td>\n",
       "      <td>device_in_1</td>\n",
       "      <td>esp8266_1</td>\n",
       "      <td>ds18b20_1</td>\n",
       "      <td>t1</td>\n",
       "      <td>22.69</td>\n",
       "      <td>2021-01-01 02:00:00+01:00</td>\n",
       "      <td>room1</td>\n",
       "    </tr>\n",
       "    <tr>\n",
       "      <th>2</th>\n",
       "      <td>MA TestSystem</td>\n",
       "      <td>vfbkee_im_2</td>\n",
       "      <td>aqara_multisensor_1</td>\n",
       "      <td>aqara_temp_1</td>\n",
       "      <td>t3</td>\n",
       "      <td>22.32333333333333</td>\n",
       "      <td>2021-01-01 02:00:00+01:00</td>\n",
       "      <td>room2</td>\n",
       "    </tr>\n",
       "    <tr>\n",
       "      <th>3</th>\n",
       "      <td>MA TestSystem</td>\n",
       "      <td>device_in_1</td>\n",
       "      <td>esp8266_2</td>\n",
       "      <td>ds18b20_2</td>\n",
       "      <td>t2</td>\n",
       "      <td>23.69</td>\n",
       "      <td>2021-01-01 02:00:00+01:00</td>\n",
       "      <td>room1</td>\n",
       "    </tr>\n",
       "    <tr>\n",
       "      <th>4</th>\n",
       "      <td>MA TestSystem</td>\n",
       "      <td>device_main</td>\n",
       "      <td>raspberry</td>\n",
       "      <td></td>\n",
       "      <td></td>\n",
       "      <td>22.32333333333333</td>\n",
       "      <td>2021-01-01 02:00:05+01:00</td>\n",
       "      <td>room2</td>\n",
       "    </tr>\n",
       "  </tbody>\n",
       "</table>\n",
       "</div>"
      ],
      "text/plain": [
       "          System       Device        SensingDevice        Sensor name  \\\n",
       "0  MA TestSystem   device_out  aqara_multisensor_2  aqara_temp_2   t4   \n",
       "1  MA TestSystem  device_in_1            esp8266_1     ds18b20_1   t1   \n",
       "2  MA TestSystem  vfbkee_im_2  aqara_multisensor_1  aqara_temp_1   t3   \n",
       "3  MA TestSystem  device_in_1            esp8266_2     ds18b20_2   t2   \n",
       "4  MA TestSystem  device_main            raspberry                      \n",
       "\n",
       "               value                  timestamp location  \n",
       "0  7.080000000000001  2021-01-01 02:00:00+01:00  outside  \n",
       "1              22.69  2021-01-01 02:00:00+01:00    room1  \n",
       "2  22.32333333333333  2021-01-01 02:00:00+01:00    room2  \n",
       "3              23.69  2021-01-01 02:00:00+01:00    room1  \n",
       "4  22.32333333333333  2021-01-01 02:00:05+01:00    room2  "
      ]
     },
     "execution_count": 4,
     "metadata": {},
     "output_type": "execute_result"
    }
   ],
   "source": [
    "dataset_dictionary = {\n",
    "    \"name\": \"iot\",\n",
    "    \"path\": \"../../data/iot-scenario/error-injector/iot-scenario-dirty.csv\",\n",
    "    \"clean_path\": \"../../data/iot-scenario/error-injector/iot-scenario-data.csv\"\n",
    "}\n",
    "d = app_1.initialize_dataset(dataset_dictionary)\n",
    "d.dataframe.head()"
   ]
  },
  {
   "cell_type": "code",
   "execution_count": 6,
   "metadata": {},
   "outputs": [
    {
     "name": "stderr",
     "output_type": "stream",
     "text": [
      "I just load strategies' results as they have already been run on the dataset!\n"
     ]
    },
    {
     "name": "stdout",
     "output_type": "stream",
     "text": [
      "107 strategy profiles are collected.\n"
     ]
    }
   ],
   "source": [
    "app_1.run_strategies(d)"
   ]
  },
  {
   "cell_type": "code",
   "execution_count": 7,
   "metadata": {},
   "outputs": [
    {
     "name": "stdout",
     "output_type": "stream",
     "text": [
      "12 Features are generated for column 0.\n",
      "18 Features are generated for column 1.\n",
      "19 Features are generated for column 2.\n",
      "27 Features are generated for column 3.\n",
      "8 Features are generated for column 4.\n",
      "12 Features are generated for column 5.\n",
      "8 Features are generated for column 6.\n",
      "10 Features are generated for column 7.\n"
     ]
    }
   ],
   "source": [
    "app_1.generate_features(d)"
   ]
  },
  {
   "cell_type": "code",
   "execution_count": 8,
   "metadata": {},
   "outputs": [
    {
     "name": "stdout",
     "output_type": "stream",
     "text": [
      "A hierarchical clustering model is built for column 0.\n",
      "A hierarchical clustering model is built for column 1.\n",
      "A hierarchical clustering model is built for column 2.\n",
      "A hierarchical clustering model is built for column 3.\n",
      "A hierarchical clustering model is built for column 4.\n",
      "A hierarchical clustering model is built for column 5.\n",
      "A hierarchical clustering model is built for column 6.\n",
      "A hierarchical clustering model is built for column 7.\n"
     ]
    }
   ],
   "source": [
    "app_1.build_clusters(d)"
   ]
  },
  {
   "cell_type": "code",
   "execution_count": 10,
   "metadata": {
    "scrolled": true
   },
   "outputs": [
    {
     "name": "stdout",
     "output_type": "stream",
     "text": [
      "Tuple 502 is sampled.\n",
      "Tuple 502 is labeled.\n",
      "Tuple 50 is sampled.\n",
      "Tuple 50 is labeled.\n",
      "Tuple 921 is sampled.\n",
      "Tuple 921 is labeled.\n",
      "Tuple 128 is sampled.\n",
      "Tuple 128 is labeled.\n",
      "Tuple 696 is sampled.\n",
      "Tuple 696 is labeled.\n",
      "Tuple 786 is sampled.\n",
      "Tuple 786 is labeled.\n",
      "Tuple 279 is sampled.\n",
      "Tuple 279 is labeled.\n",
      "Tuple 516 is sampled.\n",
      "Tuple 516 is labeled.\n",
      "Tuple 845 is sampled.\n",
      "Tuple 845 is labeled.\n",
      "Tuple 671 is sampled.\n",
      "Tuple 671 is labeled.\n",
      "Tuple 916 is sampled.\n",
      "Tuple 916 is labeled.\n",
      "Tuple 160 is sampled.\n",
      "Tuple 160 is labeled.\n",
      "Tuple 39 is sampled.\n",
      "Tuple 39 is labeled.\n",
      "Tuple 404 is sampled.\n",
      "Tuple 404 is labeled.\n",
      "Tuple 861 is sampled.\n",
      "Tuple 861 is labeled.\n",
      "Tuple 536 is sampled.\n",
      "Tuple 536 is labeled.\n",
      "Tuple 569 is sampled.\n",
      "Tuple 569 is labeled.\n",
      "Tuple 622 is sampled.\n",
      "Tuple 622 is labeled.\n",
      "Tuple 375 is sampled.\n",
      "Tuple 375 is labeled.\n",
      "Tuple 288 is sampled.\n",
      "Tuple 288 is labeled.\n"
     ]
    }
   ],
   "source": [
    "while len(d.labeled_tuples) < app_1.LABELING_BUDGET:\n",
    "    app_1.sample_tuple(d)\n",
    "    if d.has_ground_truth:\n",
    "        app_1.label_with_ground_truth(d)\n",
    "    else:\n",
    "        print(\"Label the dirty cells in the following sampled tuple.\")\n",
    "        sampled_tuple = pandas.DataFrame(data=[d.dataframe.iloc[d.sampled_tuple, :]], columns=d.dataframe.columns)\n",
    "        IPython.display.display(sampled_tuple)\n",
    "        for j in range(d.dataframe.shape[1]):\n",
    "            cell = (d.sampled_tuple, j)\n",
    "            value = d.dataframe.iloc[cell]\n",
    "            correction = input(\"What is the correction for value '{}'? Type in the same value if it is not erronous.\\n\".format(value))\n",
    "            user_label = 1 if value != correction else 0\n",
    "            d.labeled_cells[cell] = [user_label, correction]\n",
    "        d.labeled_tuples[d.sampled_tuple] = 1"
   ]
  },
  {
   "cell_type": "code",
   "execution_count": 11,
   "metadata": {},
   "outputs": [
    {
     "name": "stdout",
     "output_type": "stream",
     "text": [
      "The number of labeled data cells increased from 160 to 4839.\n"
     ]
    }
   ],
   "source": [
    "app_1.propagate_labels(d)"
   ]
  },
  {
   "cell_type": "code",
   "execution_count": 12,
   "metadata": {},
   "outputs": [
    {
     "name": "stdout",
     "output_type": "stream",
     "text": [
      "A classifier is trained and applied on column 0.\n",
      "A classifier is trained and applied on column 1.\n",
      "A classifier is trained and applied on column 2.\n",
      "A classifier is trained and applied on column 3.\n",
      "A classifier is trained and applied on column 4.\n",
      "A classifier is trained and applied on column 5.\n",
      "A classifier is trained and applied on column 6.\n",
      "A classifier is trained and applied on column 7.\n"
     ]
    }
   ],
   "source": [
    "app_1.predict_labels(d)"
   ]
  },
  {
   "cell_type": "code",
   "execution_count": 13,
   "metadata": {},
   "outputs": [
    {
     "name": "stdout",
     "output_type": "stream",
     "text": [
      "The results are stored in ../../data/iot-scenario/error-injector\\raha-baran-results-iot\\error-detection\\detection.dataset.\n"
     ]
    }
   ],
   "source": [
    "app_1.store_results(d)"
   ]
  },
  {
   "cell_type": "code",
   "execution_count": 14,
   "metadata": {
    "scrolled": true
   },
   "outputs": [
    {
     "name": "stdout",
     "output_type": "stream",
     "text": [
      "Raha's performance on iot:\n",
      "Precision = 1.00\n",
      "Recall = 0.09\n",
      "F1 = 0.16\n"
     ]
    }
   ],
   "source": [
    "p, r, f = d.get_data_cleaning_evaluation(d.detected_cells)[:3]\n",
    "print(\"Raha's performance on {}:\\nPrecision = {:.2f}\\nRecall = {:.2f}\\nF1 = {:.2f}\".format(d.name, p, r, f))"
   ]
  }
 ],
 "metadata": {
  "kernelspec": {
   "display_name": "Python 3.8.2 64-bit",
   "language": "python",
   "name": "python3"
  },
  "language_info": {
   "codemirror_mode": {
    "name": "ipython",
    "version": 3
   },
   "file_extension": ".py",
   "mimetype": "text/x-python",
   "name": "python",
   "nbconvert_exporter": "python",
   "pygments_lexer": "ipython3",
   "version": "3.8.2"
  },
  "vscode": {
   "interpreter": {
    "hash": "2971366fc41c5853daeac9b7f4b541f04ea33d4c599a5cecc36459f87215dcad"
   }
  }
 },
 "nbformat": 4,
 "nbformat_minor": 2
}
